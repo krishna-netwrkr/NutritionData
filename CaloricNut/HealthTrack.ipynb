{
 "cells": [
  {
   "cell_type": "code",
   "execution_count": 1,
   "metadata": {},
   "outputs": [],
   "source": [
    "%matplotlib inline\n",
    "import pandas as pd\n",
    "import matplotlib.pyplot as plt\n",
    "import seaborn as sn\n",
    "\n",
    "df = pd.read_csv(\"2knut.csv\")\n",
    "df.columns = ['Nutrient','Units of measure', 'IntakeValue']"
   ]
  },
  {
   "cell_type": "code",
   "execution_count": 2,
   "metadata": {},
   "outputs": [],
   "source": [
    "df['Type']='Type'"
   ]
  },
  {
   "cell_type": "code",
   "execution_count": 3,
   "metadata": {},
   "outputs": [
    {
     "name": "stdout",
     "output_type": "stream",
     "text": [
      "               Nutrient      Units of measure  IntakeValue  Type\n",
      "0             Vitamin A  Micrograms RAE (mcg)        900.0  Type\n",
      "1             Vitamin C       Milligrams (mg)         90.0  Type\n",
      "2             Vitamin D      Micrograms (mcg)         20.0  Type\n",
      "3             Vitamin E       Milligrams (mg)         15.0  Type\n",
      "4             Vitamin K      Micrograms (mcg)        120.0  Type\n",
      "5              Thiamine       Milligrams (mg)          1.2  Type\n",
      "6            Riboflavin       Milligrams (mg)          1.3  Type\n",
      "7                Niacin     Milligrams NE(mg)         16.0  Type\n",
      "8      Pantothenic Acid       Milligrams (mg)          5.0  Type\n",
      "9                Biotin      Micrograms (mcg)         30.0  Type\n",
      "10                   B6       Milligrams (mg)        400.0  Type\n",
      "11                  B12       Micrograms(mcg)          2.4  Type\n",
      "12               Folate  Micrograms DFE (mcg)        400.0  Type\n",
      "13              Calcium       Milligrams (mg)       1300.0  Type\n",
      "14           Phosphorus       Milligrams (mg)       1250.0  Type\n",
      "15            Magnesium       Milligrams (mg)        420.0  Type\n",
      "16            Potassium       Milligrams (mg)       4700.0  Type\n",
      "17             Chloride       Milligrams (mg)       2300.0  Type\n",
      "18             Chromium       Micrograms(mcg)         35.0  Type\n",
      "19              Choline        Milligrams(mg)        550.0  Type\n",
      "20               Copper        Milligrams(mg)          0.9  Type\n",
      "21               Iodine       Micrograms(mcg)        150.0  Type\n",
      "22                 Iron        Milligrams(mg)         18.0  Type\n",
      "23            Manganese        Milligrams(mg)          2.3  Type\n",
      "24           Molybdenum       Micrograms(mcg)         45.0  Type\n",
      "25             Selenium       Micrograms(mcg)         55.0  Type\n",
      "26                 Zinc        Milligrams(mg)         11.0  Type\n",
      "27                  Fat             Grams (g)         78.0  Type\n",
      "28            Saturated             Grams (g)         20.0  Type\n",
      "29          Cholesterol       Milligrams (mg)        300.0  Type\n",
      "30  Total Carbohydrates             Grams (g)        275.0  Type\n",
      "31               Sodium       Milligrams (mg)       2300.0  Type\n",
      "32        Dietary Fiber             Grams (g)         28.0  Type\n",
      "33              Protein             Grams (g)         50.0  Type\n",
      "34         Added Sugars             Grams (g)         50.0  Type\n"
     ]
    }
   ],
   "source": [
    "print(df)"
   ]
  },
  {
   "cell_type": "code",
   "execution_count": 4,
   "metadata": {},
   "outputs": [],
   "source": [
    "\n",
    "column_names = ['Nutrient', 'Type', 'Units of measure', 'IntakeValue']\n",
    "\n",
    "df = df.reindex(columns=column_names)\n"
   ]
  },
  {
   "cell_type": "code",
   "execution_count": 5,
   "metadata": {
    "scrolled": true
   },
   "outputs": [],
   "source": [
    "df.iloc[0:5 , 1] = 'Fat-Soluble';\n",
    "df.iloc[5:13 , 1] = 'Water-Soluble';\n",
    "df.iloc[13:20 , 1] = 'Macromineral';\n",
    "df.iloc[20:27 , 1] = 'Micromineral';\n",
    "df.iloc[27:35, 1] = 'Food Component'"
   ]
  },
  {
   "cell_type": "code",
   "execution_count": 6,
   "metadata": {},
   "outputs": [
    {
     "data": {
      "text/html": [
       "<div>\n",
       "<style scoped>\n",
       "    .dataframe tbody tr th:only-of-type {\n",
       "        vertical-align: middle;\n",
       "    }\n",
       "\n",
       "    .dataframe tbody tr th {\n",
       "        vertical-align: top;\n",
       "    }\n",
       "\n",
       "    .dataframe thead th {\n",
       "        text-align: right;\n",
       "    }\n",
       "</style>\n",
       "<table border=\"1\" class=\"dataframe\">\n",
       "  <thead>\n",
       "    <tr style=\"text-align: right;\">\n",
       "      <th></th>\n",
       "      <th>Nutrient</th>\n",
       "      <th>Type</th>\n",
       "      <th>Units of measure</th>\n",
       "      <th>IntakeValue</th>\n",
       "    </tr>\n",
       "  </thead>\n",
       "  <tbody>\n",
       "    <tr>\n",
       "      <th>0</th>\n",
       "      <td>Vitamin A</td>\n",
       "      <td>Fat-Soluble</td>\n",
       "      <td>Micrograms RAE (mcg)</td>\n",
       "      <td>900.0</td>\n",
       "    </tr>\n",
       "    <tr>\n",
       "      <th>1</th>\n",
       "      <td>Vitamin C</td>\n",
       "      <td>Fat-Soluble</td>\n",
       "      <td>Milligrams (mg)</td>\n",
       "      <td>90.0</td>\n",
       "    </tr>\n",
       "    <tr>\n",
       "      <th>2</th>\n",
       "      <td>Vitamin D</td>\n",
       "      <td>Fat-Soluble</td>\n",
       "      <td>Micrograms (mcg)</td>\n",
       "      <td>20.0</td>\n",
       "    </tr>\n",
       "    <tr>\n",
       "      <th>3</th>\n",
       "      <td>Vitamin E</td>\n",
       "      <td>Fat-Soluble</td>\n",
       "      <td>Milligrams (mg)</td>\n",
       "      <td>15.0</td>\n",
       "    </tr>\n",
       "    <tr>\n",
       "      <th>4</th>\n",
       "      <td>Vitamin K</td>\n",
       "      <td>Fat-Soluble</td>\n",
       "      <td>Micrograms (mcg)</td>\n",
       "      <td>120.0</td>\n",
       "    </tr>\n",
       "  </tbody>\n",
       "</table>\n",
       "</div>"
      ],
      "text/plain": [
       "    Nutrient         Type      Units of measure  IntakeValue\n",
       "0  Vitamin A  Fat-Soluble  Micrograms RAE (mcg)        900.0\n",
       "1  Vitamin C  Fat-Soluble       Milligrams (mg)         90.0\n",
       "2  Vitamin D  Fat-Soluble      Micrograms (mcg)         20.0\n",
       "3  Vitamin E  Fat-Soluble       Milligrams (mg)         15.0\n",
       "4  Vitamin K  Fat-Soluble      Micrograms (mcg)        120.0"
      ]
     },
     "execution_count": 6,
     "metadata": {},
     "output_type": "execute_result"
    }
   ],
   "source": [
    "df.head()"
   ]
  },
  {
   "cell_type": "code",
   "execution_count": 7,
   "metadata": {},
   "outputs": [
    {
     "name": "stdout",
     "output_type": "stream",
     "text": [
      "               Nutrient            Type      Units of measure  IntakeValue\n",
      "0             Vitamin A     Fat-Soluble  Micrograms RAE (mcg)        900.0\n",
      "1             Vitamin C     Fat-Soluble       Milligrams (mg)         90.0\n",
      "2             Vitamin D     Fat-Soluble      Micrograms (mcg)         20.0\n",
      "3             Vitamin E     Fat-Soluble       Milligrams (mg)         15.0\n",
      "4             Vitamin K     Fat-Soluble      Micrograms (mcg)        120.0\n",
      "5              Thiamine   Water-Soluble       Milligrams (mg)          1.2\n",
      "6            Riboflavin   Water-Soluble       Milligrams (mg)          1.3\n",
      "7                Niacin   Water-Soluble     Milligrams NE(mg)         16.0\n",
      "8      Pantothenic Acid   Water-Soluble       Milligrams (mg)          5.0\n",
      "9                Biotin   Water-Soluble      Micrograms (mcg)         30.0\n",
      "10                   B6   Water-Soluble       Milligrams (mg)        400.0\n",
      "11                  B12   Water-Soluble       Micrograms(mcg)          2.4\n",
      "12               Folate   Water-Soluble  Micrograms DFE (mcg)        400.0\n",
      "13              Calcium    Macromineral       Milligrams (mg)       1300.0\n",
      "14           Phosphorus    Macromineral       Milligrams (mg)       1250.0\n",
      "15            Magnesium    Macromineral       Milligrams (mg)        420.0\n",
      "16            Potassium    Macromineral       Milligrams (mg)       4700.0\n",
      "17             Chloride    Macromineral       Milligrams (mg)       2300.0\n",
      "18             Chromium    Macromineral       Micrograms(mcg)         35.0\n",
      "19              Choline    Macromineral        Milligrams(mg)        550.0\n",
      "20               Copper    Micromineral        Milligrams(mg)          0.9\n",
      "21               Iodine    Micromineral       Micrograms(mcg)        150.0\n",
      "22                 Iron    Micromineral        Milligrams(mg)         18.0\n",
      "23            Manganese    Micromineral        Milligrams(mg)          2.3\n",
      "24           Molybdenum    Micromineral       Micrograms(mcg)         45.0\n",
      "25             Selenium    Micromineral       Micrograms(mcg)         55.0\n",
      "26                 Zinc    Micromineral        Milligrams(mg)         11.0\n",
      "27                  Fat  Food Component             Grams (g)         78.0\n",
      "28            Saturated  Food Component             Grams (g)         20.0\n",
      "29          Cholesterol  Food Component       Milligrams (mg)        300.0\n",
      "30  Total Carbohydrates  Food Component             Grams (g)        275.0\n",
      "31               Sodium  Food Component       Milligrams (mg)       2300.0\n",
      "32        Dietary Fiber  Food Component             Grams (g)         28.0\n",
      "33              Protein  Food Component             Grams (g)         50.0\n",
      "34         Added Sugars  Food Component             Grams (g)         50.0\n"
     ]
    }
   ],
   "source": [
    "print(df)"
   ]
  },
  {
   "cell_type": "code",
   "execution_count": 8,
   "metadata": {},
   "outputs": [],
   "source": [
    "df2= df.assign( calories1500 =lambda df: df.IntakeValue*.75 , calories2500=lambda df: df.IntakeValue*1.25);\n"
   ]
  },
  {
   "cell_type": "code",
   "execution_count": 9,
   "metadata": {},
   "outputs": [
    {
     "name": "stdout",
     "output_type": "stream",
     "text": [
      "               Nutrient            Type      Units of measure  IntakeValue  \\\n",
      "0             Vitamin A     Fat-Soluble  Micrograms RAE (mcg)        900.0   \n",
      "1             Vitamin C     Fat-Soluble       Milligrams (mg)         90.0   \n",
      "2             Vitamin D     Fat-Soluble      Micrograms (mcg)         20.0   \n",
      "3             Vitamin E     Fat-Soluble       Milligrams (mg)         15.0   \n",
      "4             Vitamin K     Fat-Soluble      Micrograms (mcg)        120.0   \n",
      "5              Thiamine   Water-Soluble       Milligrams (mg)          1.2   \n",
      "6            Riboflavin   Water-Soluble       Milligrams (mg)          1.3   \n",
      "7                Niacin   Water-Soluble     Milligrams NE(mg)         16.0   \n",
      "8      Pantothenic Acid   Water-Soluble       Milligrams (mg)          5.0   \n",
      "9                Biotin   Water-Soluble      Micrograms (mcg)         30.0   \n",
      "10                   B6   Water-Soluble       Milligrams (mg)        400.0   \n",
      "11                  B12   Water-Soluble       Micrograms(mcg)          2.4   \n",
      "12               Folate   Water-Soluble  Micrograms DFE (mcg)        400.0   \n",
      "13              Calcium    Macromineral       Milligrams (mg)       1300.0   \n",
      "14           Phosphorus    Macromineral       Milligrams (mg)       1250.0   \n",
      "15            Magnesium    Macromineral       Milligrams (mg)        420.0   \n",
      "16            Potassium    Macromineral       Milligrams (mg)       4700.0   \n",
      "17             Chloride    Macromineral       Milligrams (mg)       2300.0   \n",
      "18             Chromium    Macromineral       Micrograms(mcg)         35.0   \n",
      "19              Choline    Macromineral        Milligrams(mg)        550.0   \n",
      "20               Copper    Micromineral        Milligrams(mg)          0.9   \n",
      "21               Iodine    Micromineral       Micrograms(mcg)        150.0   \n",
      "22                 Iron    Micromineral        Milligrams(mg)         18.0   \n",
      "23            Manganese    Micromineral        Milligrams(mg)          2.3   \n",
      "24           Molybdenum    Micromineral       Micrograms(mcg)         45.0   \n",
      "25             Selenium    Micromineral       Micrograms(mcg)         55.0   \n",
      "26                 Zinc    Micromineral        Milligrams(mg)         11.0   \n",
      "27                  Fat  Food Component             Grams (g)         78.0   \n",
      "28            Saturated  Food Component             Grams (g)         20.0   \n",
      "29          Cholesterol  Food Component       Milligrams (mg)        300.0   \n",
      "30  Total Carbohydrates  Food Component             Grams (g)        275.0   \n",
      "31               Sodium  Food Component       Milligrams (mg)       2300.0   \n",
      "32        Dietary Fiber  Food Component             Grams (g)         28.0   \n",
      "33              Protein  Food Component             Grams (g)         50.0   \n",
      "34         Added Sugars  Food Component             Grams (g)         50.0   \n",
      "\n",
      "    calories1500  calories2500  \n",
      "0        675.000      1125.000  \n",
      "1         67.500       112.500  \n",
      "2         15.000        25.000  \n",
      "3         11.250        18.750  \n",
      "4         90.000       150.000  \n",
      "5          0.900         1.500  \n",
      "6          0.975         1.625  \n",
      "7         12.000        20.000  \n",
      "8          3.750         6.250  \n",
      "9         22.500        37.500  \n",
      "10       300.000       500.000  \n",
      "11         1.800         3.000  \n",
      "12       300.000       500.000  \n",
      "13       975.000      1625.000  \n",
      "14       937.500      1562.500  \n",
      "15       315.000       525.000  \n",
      "16      3525.000      5875.000  \n",
      "17      1725.000      2875.000  \n",
      "18        26.250        43.750  \n",
      "19       412.500       687.500  \n",
      "20         0.675         1.125  \n",
      "21       112.500       187.500  \n",
      "22        13.500        22.500  \n",
      "23         1.725         2.875  \n",
      "24        33.750        56.250  \n",
      "25        41.250        68.750  \n",
      "26         8.250        13.750  \n",
      "27        58.500        97.500  \n",
      "28        15.000        25.000  \n",
      "29       225.000       375.000  \n",
      "30       206.250       343.750  \n",
      "31      1725.000      2875.000  \n",
      "32        21.000        35.000  \n",
      "33        37.500        62.500  \n",
      "34        37.500        62.500  \n"
     ]
    }
   ],
   "source": [
    "print(df2)"
   ]
  },
  {
   "cell_type": "code",
   "execution_count": 10,
   "metadata": {},
   "outputs": [],
   "source": [
    "df3 = pd.read_csv(\"2knut.csv\")\n",
    "df3[\"Consumable\"] = \"\"\n",
    "df3[\"Time\"] = \"\"\n",
    "df3.to_csv(\"knut3.csv\", index=False)"
   ]
  },
  {
   "cell_type": "code",
   "execution_count": 11,
   "metadata": {},
   "outputs": [],
   "source": [
    "df3= df3.drop(columns=['Intake Value','Units of measure'])\n"
   ]
  },
  {
   "cell_type": "code",
   "execution_count": 12,
   "metadata": {},
   "outputs": [
    {
     "name": "stdout",
     "output_type": "stream",
     "text": [
      "                   0          1          2          3          4         5   \\\n",
      "Vitamins    Vitamin A  Vitamin C  Vitamin D  Vitamin E  Vitamin K  Thiamine   \n",
      "Consumable                                                                    \n",
      "Time                                                                          \n",
      "\n",
      "                    6       7                 8       9   ...        25    26  \\\n",
      "Vitamins    Riboflavin  Niacin  Pantothenic Acid  Biotin  ...  Selenium  Zinc   \n",
      "Consumable                                                ...                   \n",
      "Time                                                      ...                   \n",
      "\n",
      "             27         28           29                   30      31  \\\n",
      "Vitamins    Fat  Saturated  Cholesterol  Total Carbohydrates  Sodium   \n",
      "Consumable                                                             \n",
      "Time                                                                   \n",
      "\n",
      "                       32       33            34  \n",
      "Vitamins    Dietary Fiber  Protein  Added Sugars  \n",
      "Consumable                                        \n",
      "Time                                              \n",
      "\n",
      "[3 rows x 35 columns]\n"
     ]
    }
   ],
   "source": [
    "\n",
    "nutritionLog= df3.T\n",
    "print(nutritionLog)"
   ]
  },
  {
   "cell_type": "code",
   "execution_count": 13,
   "metadata": {},
   "outputs": [
    {
     "ename": "SyntaxError",
     "evalue": "unexpected EOF while parsing (<ipython-input-13-d12758c60195>, line 6)",
     "output_type": "error",
     "traceback": [
      "\u001b[1;36m  File \u001b[1;32m\"<ipython-input-13-d12758c60195>\"\u001b[1;36m, line \u001b[1;32m6\u001b[0m\n\u001b[1;33m    #df.iloc[27:35, 1] = 'Food Component'\u001b[0m\n\u001b[1;37m                                         ^\u001b[0m\n\u001b[1;31mSyntaxError\u001b[0m\u001b[1;31m:\u001b[0m unexpected EOF while parsing\n"
     ]
    }
   ],
   "source": [
    "print(df3.column(  'Fat-Soluble')\n",
    "#df.iloc[0:5 , 1] = 'Fat-Soluble';\n",
    "#df.iloc[5:13 , 1] = 'Water-Soluble';\n",
    "#df.iloc[13:20 , 1] = 'Macromineral';\n",
    "#df.iloc[20:27 , 1] = 'Micromineral';\n",
    "#df.iloc[27:35, 1] = 'Food Component'"
   ]
  },
  {
   "cell_type": "code",
   "execution_count": 14,
   "metadata": {},
   "outputs": [],
   "source": [
    "nutritionLog.to_csv(\"nutLog.csv\", index=False)"
   ]
  },
  {
   "cell_type": "code",
   "execution_count": null,
   "metadata": {},
   "outputs": [],
   "source": []
  },
  {
   "cell_type": "code",
   "execution_count": null,
   "metadata": {
    "collapsed": true
   },
   "outputs": [],
   "source": []
  }
 ],
 "metadata": {
  "kernelspec": {
   "display_name": "Python 3",
   "language": "python",
   "name": "python3"
  },
  "language_info": {
   "codemirror_mode": {
    "name": "ipython",
    "version": 3
   },
   "file_extension": ".py",
   "mimetype": "text/x-python",
   "name": "python",
   "nbconvert_exporter": "python",
   "pygments_lexer": "ipython3",
   "version": "3.8.5"
  }
 },
 "nbformat": 4,
 "nbformat_minor": 4
}
